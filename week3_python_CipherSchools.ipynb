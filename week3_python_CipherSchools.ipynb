{
  "nbformat": 4,
  "nbformat_minor": 0,
  "metadata": {
    "colab": {
      "provenance": [],
      "authorship_tag": "ABX9TyO8sBzSCj9XPCCs1Gy5iRhX",
      "include_colab_link": true
    },
    "kernelspec": {
      "name": "python3",
      "display_name": "Python 3"
    },
    "language_info": {
      "name": "python"
    }
  },
  "cells": [
    {
      "cell_type": "markdown",
      "metadata": {
        "id": "view-in-github",
        "colab_type": "text"
      },
      "source": [
        "<a href=\"https://colab.research.google.com/github/khushil04/Coders_KOC29_CipherSchools/blob/main/week3_python_CipherSchools.ipynb\" target=\"_parent\"><img src=\"https://colab.research.google.com/assets/colab-badge.svg\" alt=\"Open In Colab\"/></a>"
      ]
    },
    {
      "cell_type": "code",
      "execution_count": null,
      "metadata": {
        "colab": {
          "base_uri": "https://localhost:8080/"
        },
        "id": "yf8T9gr51o8e",
        "outputId": "020f541f-670e-40f2-9353-6ce2462fb381"
      },
      "outputs": [
        {
          "output_type": "stream",
          "name": "stdout",
          "text": [
            "{1: 1, 2: 8, 3: 27, 4: 64, 5: 125, 6: 216, 7: 343, 8: 512, 9: 729, 10: 1000}\n"
          ]
        }
      ],
      "source": [
        "#Lec-124:\n",
        "def cube_finder(n):\n",
        "  cubes={}\n",
        "  for i in range(1,n+1):\n",
        "    cubes[i]=i**3\n",
        "  return cubes\n",
        "print(cube_finder(10))"
      ]
    },
    {
      "cell_type": "code",
      "source": [
        "#Lec-125:\n",
        "def word_counter(s):\n",
        "  count={}\n",
        "  for char in s:\n",
        "    count[char] = s.count(char)\n",
        "    return count\n",
        "print(word_counter('khushil'))"
      ],
      "metadata": {
        "colab": {
          "base_uri": "https://localhost:8080/"
        },
        "id": "Rl1iNnPj2fp8",
        "outputId": "4f80d582-5da6-494a-8575-e3dcea90d4c4"
      },
      "execution_count": null,
      "outputs": [
        {
          "output_type": "stream",
          "name": "stdout",
          "text": [
            "{'k': 1}\n"
          ]
        }
      ]
    },
    {
      "cell_type": "code",
      "source": [
        "#Lec-127:\n",
        "name=input('what is your name: ')\n",
        "age = input('what is your age: ')\n",
        "fav_movies=input('your fav movies seprated by comma').split(',')\n",
        "fav_songs=input('your fav songs seprated by comma').split(',')\n",
        "user['name']=name\n",
        "user['age']=age\n",
        "user['fav_moves']=fav_movies\n",
        "user['fav_songs']=fav_songs\n",
        "\n",
        "for key,value in user.items():\n",
        "  print(f\"{key}:{value}\")\n"
      ],
      "metadata": {
        "id": "10uzfP2029uV"
      },
      "execution_count": null,
      "outputs": []
    },
    {
      "cell_type": "code",
      "source": [
        "#Lec-129: set data type\n",
        "s={1,2,3}\n",
        "s=(1,1.1,2.3,'string',{1:1})\n",
        "print(s[1])"
      ],
      "metadata": {
        "id": "w78QsvLr5K8G"
      },
      "execution_count": null,
      "outputs": []
    },
    {
      "cell_type": "code",
      "source": [
        "#Lec-130:\n",
        "s={'a','b','c'}\n",
        "if'a' in s:\n",
        "  print(\"present\")\n",
        "else:\n",
        "  print(\"not present\")"
      ],
      "metadata": {
        "id": "Lqs8iYyo5SK5"
      },
      "execution_count": null,
      "outputs": []
    },
    {
      "cell_type": "code",
      "source": [
        "#Lec-131:\n",
        "names=['khushil','sam','run']\n",
        "new_list=[]\n",
        "for name in names:\n",
        "  new_list.append(name[0])\n",
        "print(new_list)\n",
        "\n",
        "new_list2=[name[1] for name in names]\n",
        "print(new_list2)\n",
        "\n"
      ],
      "metadata": {
        "colab": {
          "base_uri": "https://localhost:8080/"
        },
        "id": "hTMT6Mk46TOd",
        "outputId": "d3273106-4434-46f0-9b34-12ce59a78e7e"
      },
      "execution_count": null,
      "outputs": [
        {
          "output_type": "stream",
          "name": "stdout",
          "text": [
            "['k', 's', 'r']\n",
            "['h', 'a', 'u']\n"
          ]
        }
      ]
    },
    {
      "cell_type": "code",
      "source": [
        "#Lec-134: list comprehension\n",
        "number=list(range(1,11))\n",
        "nums=[]\n",
        "for i in nums:\n",
        "  if i%2==0:\n",
        "    nums.append(i)\n",
        "print(nums)"
      ],
      "metadata": {
        "id": "ZoOxOfN37XBu"
      },
      "execution_count": null,
      "outputs": []
    },
    {
      "cell_type": "code",
      "source": [
        "#Lec-136:\n",
        "def num_to_string(l):\n",
        "  return[str(i) for i in l if (type(i)==int or type(i)==float)]\n",
        "print(num_to_string([True,False,[1,2,3],1,1.1,3]))"
      ],
      "metadata": {
        "colab": {
          "base_uri": "https://localhost:8080/"
        },
        "id": "cMbMICa08FuW",
        "outputId": "939cbb74-d18a-483e-bbf6-79218ce09cca"
      },
      "execution_count": null,
      "outputs": [
        {
          "output_type": "stream",
          "name": "stdout",
          "text": [
            "['1', '1.1', '3']\n"
          ]
        }
      ]
    },
    {
      "cell_type": "code",
      "source": [
        "#Lec-137:\n",
        "new_list=[]\n",
        "for i in nums:\n",
        "  if i%2==0:\n",
        "    new_list.append(i*2)\n",
        "  else:\n",
        "    new_list.append(-i)\n",
        "print(new_list)\n",
        "new_list2=[i*2 if(i%2==0) else-i for i in nums]\n",
        "print(new_list2)"
      ],
      "metadata": {
        "id": "1fhJQtFK9Nqm"
      },
      "execution_count": null,
      "outputs": []
    },
    {
      "cell_type": "code",
      "source": [
        "#Lec-139:\n",
        "nested_comp=[[i for i in range (1,4)] for i in range(3)]\n",
        "print(nested_comp)\n",
        "new_list=[]\n",
        "for j in range(3):\n",
        "  new_list.append([1,2,3])"
      ],
      "metadata": {
        "colab": {
          "base_uri": "https://localhost:8080/"
        },
        "id": "dJ4SMmRG9uQf",
        "outputId": "8b1001b4-0f31-41a1-c4cd-1cffd65f6f24"
      },
      "execution_count": null,
      "outputs": [
        {
          "output_type": "stream",
          "name": "stdout",
          "text": [
            "[[1, 2, 3], [1, 2, 3], [1, 2, 3]]\n"
          ]
        }
      ]
    },
    {
      "cell_type": "code",
      "source": [
        "#Lec-140:\n",
        "n1=[[1,2,3],[1,2,3],[1,2,3]]\n",
        "new_list=[[i for i in range (1,4)] for i in range(3)]\n",
        "print(new_list)\n",
        "new_list2=[]\n",
        "for j in range(3):\n",
        "  new_list2.append([1,2,3])"
      ],
      "metadata": {
        "colab": {
          "base_uri": "https://localhost:8080/"
        },
        "id": "0OL8r_Cy_yoy",
        "outputId": "dcb06842-2d69-4c35-82f6-4588372baf95"
      },
      "execution_count": null,
      "outputs": [
        {
          "output_type": "stream",
          "name": "stdout",
          "text": [
            "[[1, 2, 3], [1, 2, 3], [1, 2, 3]]\n"
          ]
        }
      ]
    },
    {
      "cell_type": "code",
      "source": [
        "#Lec-141:\n",
        "square={f\"square of {num} is \":num**2 for num in range (1,11)}\n",
        "for k,v in square.items():\n",
        "  print(f\"{k}:{v}\")"
      ],
      "metadata": {
        "id": "wu_rWiGCBShR"
      },
      "execution_count": null,
      "outputs": []
    },
    {
      "cell_type": "code",
      "source": [
        "#Lec-142:\n",
        "odd_even={i:('even' if i%2==0 else 'odd') for i in range(1,11)}\n",
        "print(odd_even)"
      ],
      "metadata": {
        "colab": {
          "base_uri": "https://localhost:8080/"
        },
        "id": "wL-G5XsNB1ih",
        "outputId": "1a49b49b-9fd3-4f48-ff5e-a0dd094ae3e1"
      },
      "execution_count": null,
      "outputs": [
        {
          "output_type": "stream",
          "name": "stdout",
          "text": [
            "{1: 'odd', 2: 'even', 3: 'odd', 4: 'even', 5: 'odd', 6: 'even', 7: 'odd', 8: 'even', 9: 'odd', 10: 'even'}\n"
          ]
        }
      ]
    },
    {
      "cell_type": "code",
      "source": [],
      "metadata": {
        "id": "EwJw4PwTCZ5i"
      },
      "execution_count": null,
      "outputs": []
    }
  ]
}